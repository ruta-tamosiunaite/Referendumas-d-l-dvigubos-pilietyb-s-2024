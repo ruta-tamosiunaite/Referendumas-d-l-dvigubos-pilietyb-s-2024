{
 "cells": [
  {
   "cell_type": "markdown",
   "metadata": {},
   "source": [
    "## 2024 m. gegužės 12 d. privalomasis referendumas dėl Lietuvos Respublikos Konstitucijos 12 straipsnio pakeitimo"
   ]
  },
  {
   "cell_type": "markdown",
   "metadata": {},
   "source": [
    "### Bendras rinkėjų skaičius 2024 m. referendume:"
   ]
  },
  {
   "cell_type": "markdown",
   "metadata": {},
   "source": [
    "https://www.rinkejopuslapis.lt/ataskaitu-formavimas  "
   ]
  },
  {
   "cell_type": "code",
   "execution_count": 22,
   "metadata": {},
   "outputs": [
    {
     "data": {
      "text/html": [
       "<div>\n",
       "<style scoped>\n",
       "    .dataframe tbody tr th:only-of-type {\n",
       "        vertical-align: middle;\n",
       "    }\n",
       "\n",
       "    .dataframe tbody tr th {\n",
       "        vertical-align: top;\n",
       "    }\n",
       "\n",
       "    .dataframe thead th {\n",
       "        text-align: right;\n",
       "    }\n",
       "</style>\n",
       "<table border=\"1\" class=\"dataframe\">\n",
       "  <thead>\n",
       "    <tr style=\"text-align: right;\">\n",
       "      <th></th>\n",
       "      <th>Apyg. Nr. Apylinkės sąraše</th>\n",
       "      <th>Apygardos pavadinimas</th>\n",
       "      <th>Apyl. Nr.</th>\n",
       "      <th>Apylinkės pavadinimas</th>\n",
       "      <th>Rinkėjų skaičius Iš viso</th>\n",
       "      <th>Iš viso vyrų</th>\n",
       "      <th>Iš viso moterų</th>\n",
       "    </tr>\n",
       "  </thead>\n",
       "  <tbody>\n",
       "    <tr>\n",
       "      <th>0</th>\n",
       "      <td>1</td>\n",
       "      <td>Akmenės rajono</td>\n",
       "      <td>1</td>\n",
       "      <td>1 - Senamiesčio</td>\n",
       "      <td>1294</td>\n",
       "      <td>591</td>\n",
       "      <td>703</td>\n",
       "    </tr>\n",
       "    <tr>\n",
       "      <th>1</th>\n",
       "      <td>1</td>\n",
       "      <td>Akmenės rajono</td>\n",
       "      <td>2</td>\n",
       "      <td>2 - V. Kudirkos</td>\n",
       "      <td>1668</td>\n",
       "      <td>653</td>\n",
       "      <td>1015</td>\n",
       "    </tr>\n",
       "    <tr>\n",
       "      <th>2</th>\n",
       "      <td>1</td>\n",
       "      <td>Akmenės rajono</td>\n",
       "      <td>3</td>\n",
       "      <td>3 - Respublikos</td>\n",
       "      <td>1591</td>\n",
       "      <td>655</td>\n",
       "      <td>936</td>\n",
       "    </tr>\n",
       "    <tr>\n",
       "      <th>3</th>\n",
       "      <td>1</td>\n",
       "      <td>Akmenės rajono</td>\n",
       "      <td>4</td>\n",
       "      <td>4 - Ramučių</td>\n",
       "      <td>1170</td>\n",
       "      <td>521</td>\n",
       "      <td>649</td>\n",
       "    </tr>\n",
       "    <tr>\n",
       "      <th>4</th>\n",
       "      <td>1</td>\n",
       "      <td>Akmenės rajono</td>\n",
       "      <td>5</td>\n",
       "      <td>5 - Agluonų</td>\n",
       "      <td>339</td>\n",
       "      <td>166</td>\n",
       "      <td>173</td>\n",
       "    </tr>\n",
       "    <tr>\n",
       "      <th>...</th>\n",
       "      <td>...</td>\n",
       "      <td>...</td>\n",
       "      <td>...</td>\n",
       "      <td>...</td>\n",
       "      <td>...</td>\n",
       "      <td>...</td>\n",
       "      <td>...</td>\n",
       "    </tr>\n",
       "    <tr>\n",
       "      <th>1941</th>\n",
       "      <td>61</td>\n",
       "      <td>Užsienio</td>\n",
       "      <td>71</td>\n",
       "      <td>71 - Ambasada Australijoje</td>\n",
       "      <td>940</td>\n",
       "      <td>329</td>\n",
       "      <td>611</td>\n",
       "    </tr>\n",
       "    <tr>\n",
       "      <th>1942</th>\n",
       "      <td>61</td>\n",
       "      <td>Užsienio</td>\n",
       "      <td>72</td>\n",
       "      <td>72 - Ambasada Singapūro</td>\n",
       "      <td>147</td>\n",
       "      <td>70</td>\n",
       "      <td>77</td>\n",
       "    </tr>\n",
       "    <tr>\n",
       "      <th>1943</th>\n",
       "      <td>61</td>\n",
       "      <td>Užsienio</td>\n",
       "      <td>73</td>\n",
       "      <td>73 - Ambasada Pietų Korėjoje</td>\n",
       "      <td>78</td>\n",
       "      <td>34</td>\n",
       "      <td>44</td>\n",
       "    </tr>\n",
       "    <tr>\n",
       "      <th>1944</th>\n",
       "      <td>61</td>\n",
       "      <td>Užsienio</td>\n",
       "      <td>74</td>\n",
       "      <td>74 - Ambasada Šveicarijos</td>\n",
       "      <td>1228</td>\n",
       "      <td>450</td>\n",
       "      <td>778</td>\n",
       "    </tr>\n",
       "    <tr>\n",
       "      <th>1945</th>\n",
       "      <td>61</td>\n",
       "      <td>Užsienio</td>\n",
       "      <td>75</td>\n",
       "      <td>75 - Generalinis konsulatas</td>\n",
       "      <td>87</td>\n",
       "      <td>33</td>\n",
       "      <td>54</td>\n",
       "    </tr>\n",
       "  </tbody>\n",
       "</table>\n",
       "<p>1946 rows × 7 columns</p>\n",
       "</div>"
      ],
      "text/plain": [
       "      Apyg. Nr. Apylinkės sąraše Apygardos pavadinimas  Apyl. Nr.  \\\n",
       "0                              1        Akmenės rajono          1   \n",
       "1                              1        Akmenės rajono          2   \n",
       "2                              1        Akmenės rajono          3   \n",
       "3                              1        Akmenės rajono          4   \n",
       "4                              1        Akmenės rajono          5   \n",
       "...                          ...                   ...        ...   \n",
       "1941                          61              Užsienio         71   \n",
       "1942                          61              Užsienio         72   \n",
       "1943                          61              Užsienio         73   \n",
       "1944                          61              Užsienio         74   \n",
       "1945                          61              Užsienio         75   \n",
       "\n",
       "             Apylinkės pavadinimas  Rinkėjų skaičius Iš viso  Iš viso vyrų  \\\n",
       "0                  1 - Senamiesčio                      1294           591   \n",
       "1                  2 - V. Kudirkos                      1668           653   \n",
       "2                  3 - Respublikos                      1591           655   \n",
       "3                      4 - Ramučių                      1170           521   \n",
       "4                      5 - Agluonų                       339           166   \n",
       "...                            ...                       ...           ...   \n",
       "1941    71 - Ambasada Australijoje                       940           329   \n",
       "1942      72 - Ambasada Singapūro                        147            70   \n",
       "1943  73 - Ambasada Pietų Korėjoje                        78            34   \n",
       "1944    74 - Ambasada Šveicarijos                       1228           450   \n",
       "1945  75 - Generalinis konsulatas                         87            33   \n",
       "\n",
       "      Iš viso moterų  \n",
       "0                703  \n",
       "1               1015  \n",
       "2                936  \n",
       "3                649  \n",
       "4                173  \n",
       "...              ...  \n",
       "1941             611  \n",
       "1942              77  \n",
       "1943              44  \n",
       "1944             778  \n",
       "1945              54  \n",
       "\n",
       "[1946 rows x 7 columns]"
      ]
     },
     "execution_count": 22,
     "metadata": {},
     "output_type": "execute_result"
    }
   ],
   "source": [
    "import pandas as pd\n",
    "df = pd.read_csv('Rinkėjų skaičius apygardose, savivaldybėse, apylinkėse.csv', delimiter=';')\n",
    "df"
   ]
  },
  {
   "cell_type": "code",
   "execution_count": 23,
   "metadata": {},
   "outputs": [
    {
     "name": "stdout",
     "output_type": "stream",
     "text": [
      "Bendras rinkėjų skaičius 2024 m. gegužės 12 d. referendume dėl pilietybės išsaugojimo: 2381093\n"
     ]
    }
   ],
   "source": [
    "bendras_rinkėjų_skaičius = df['Rinkėjų skaičius Iš viso'].sum()\n",
    "print('Bendras rinkėjų skaičius 2024 m. gegužės 12 d. referendume dėl pilietybės išsaugojimo:', bendras_rinkėjų_skaičius)"
   ]
  },
  {
   "cell_type": "markdown",
   "metadata": {},
   "source": [
    "#### Bendras rinkėjų skaičius 2024 m. gegužės 12 d. referendume dėl pilietybės išsaugojimo: **2 381 093**  \n",
    "  "
   ]
  },
  {
   "cell_type": "markdown",
   "metadata": {},
   "source": [
    "  \n",
    "### Kad referendumas įvyktų:"
   ]
  },
  {
   "cell_type": "markdown",
   "metadata": {},
   "source": [
    "https://e-seimas.lrs.lt/portal/legalAct/lt/TAD/ea72a0d2f93011ecbfe9c72e552dd5bd"
   ]
  },
  {
   "cell_type": "markdown",
   "metadata": {},
   "source": [
    "LIETUVOS RESPUBLIKOS REFERENDUMO KONSTITUCINIS ĮSTATYMAS  \n",
    "  \n",
    "8 straipsnis. Privalomojo referendumo rezultatų nustatymas  \n",
    "  \n",
    "  \n",
    "1. Privalomasis referendumas laikomas įvykusiu, jeigu **jame dalyvavo daugiau kaip pusė piliečių, turinčių rinkimų teisę ir įrašytų į rinkėjų sąrašą**.  "
   ]
  },
  {
   "cell_type": "code",
   "execution_count": 24,
   "metadata": {},
   "outputs": [
    {
     "name": "stdout",
     "output_type": "stream",
     "text": [
      "Reikalingas balsuotojų skaičius, kad referendumas būtų laikomas įvykusiu: 1190548\n"
     ]
    }
   ],
   "source": [
    "referendumui_įvykti_reikalingas_rinkėjų_skaičius = int(round(bendras_rinkėjų_skaičius / 2 + 1, 0))\n",
    "print('Reikalingas balsuotojų skaičius, kad referendumas būtų laikomas įvykusiu:', referendumui_įvykti_reikalingas_rinkėjų_skaičius)"
   ]
  },
  {
   "cell_type": "markdown",
   "metadata": {},
   "source": [
    "#### Reikalingas balsuotojų skaičius 2024 m. gegužės 12 d. referendume, kad referendumas būtų laikomas įvykusiu: **1 190 548**  \n",
    "  "
   ]
  },
  {
   "cell_type": "markdown",
   "metadata": {},
   "source": [
    "  \n",
    "### Kad lietuviai gyvenantys užsienyje galėtų išsaugoti Lietuvos pilietybę:"
   ]
  },
  {
   "cell_type": "markdown",
   "metadata": {},
   "source": [
    "(Įgydami kitos užsienio valstybės pilietbę)"
   ]
  },
  {
   "cell_type": "markdown",
   "metadata": {},
   "source": [
    "LIETUVOS RESPUBLIKOS REFERENDUMO KONSTITUCINIS ĮSTATYMAS  \n",
    "  \n",
    "8 straipsnis. Privalomojo referendumo rezultatų nustatymas  \n",
    "  \n",
    "  \n",
    "3. Sprendimas dėl Konstitucijos I skirsnio „Lietuvos valstybė“ ir XIV skirsnio „Konstitucijos keitimas“ nuostatų pakeitimo yra laikomas priimtu, jeigu tam pritarė **daugiau kaip pusė piliečių, turinčių rinkimų teisę ir įrašytų į rinkėjų sąrašą**."
   ]
  },
  {
   "cell_type": "code",
   "execution_count": 25,
   "metadata": {},
   "outputs": [
    {
     "name": "stdout",
     "output_type": "stream",
     "text": [
      "Minimalus balsavusių „TAIP“ skaičius, kad referendumu būtų įgyvendintas 12 konstitucijos straipsnio \n",
      "pakeitimas, reikalingas norint įteisinti dvigubą pilietybę užsienio lietuviams: 595275\n"
     ]
    }
   ],
   "source": [
    "referendumo_nuostatai_priimti_reikalingas_rinkėjų_skaičius = int(round(referendumui_įvykti_reikalingas_rinkėjų_skaičius / 2 + 1, 0))\n",
    "print('Minimalus balsavusių „TAIP“ skaičius, kad referendumu būtų įgyvendintas 12 konstitucijos straipsnio \\npakeitimas, reikalingas norint įteisinti dvigubą pilietybę užsienio lietuviams:', referendumo_nuostatai_priimti_reikalingas_rinkėjų_skaičius)"
   ]
  },
  {
   "cell_type": "markdown",
   "metadata": {},
   "source": [
    "#### Reikalingas **„TAIP“** balsų skaičius 2024 m. gegužės 12 d. referendume, kad būtų pakeistas 12 konstitucijos straipsnis ir užsienyje gyvenantys lietuviai galėtų išlaikyti Lietuvos pilietybę įgydami užsienio valstybės pasą: **595 275**  \n",
    "  "
   ]
  },
  {
   "cell_type": "markdown",
   "metadata": {},
   "source": [
    "### Ankstesnis 2019 m. referendumas dėl 12 konstitucijos straipsnio pakeitimo:"
   ]
  },
  {
   "cell_type": "markdown",
   "metadata": {},
   "source": [
    "https://www.vrk.lt/ankstesni"
   ]
  },
  {
   "cell_type": "markdown",
   "metadata": {},
   "source": [
    "Referendumo data: 2019 05 12  \n",
    "Referendumo rezultatai: Referendumas įvyko. Referendumo nuostata nepriimta  "
   ]
  },
  {
   "cell_type": "markdown",
   "metadata": {},
   "source": [
    "Bendras rinkėjų skaičius: **2 486 915**"
   ]
  },
  {
   "cell_type": "code",
   "execution_count": 26,
   "metadata": {},
   "outputs": [
    {
     "name": "stdout",
     "output_type": "stream",
     "text": [
      "Reikalingas balsuotojų skaičius, kad referendumas būtų laikomas įvykusiu: 1243458\n"
     ]
    }
   ],
   "source": [
    "bendras_rinkėjų_skaičius_2019 = 2486915\n",
    "referendumui_įvykti_reikalingas_rinkėjų_skaičius_2019 = int(round(bendras_rinkėjų_skaičius_2019 / 2 + 1, 0))\n",
    "print('Reikalingas balsuotojų skaičius, kad referendumas būtų laikomas įvykusiu:', referendumui_įvykti_reikalingas_rinkėjų_skaičius_2019)"
   ]
  },
  {
   "cell_type": "code",
   "execution_count": 27,
   "metadata": {},
   "outputs": [
    {
     "name": "stdout",
     "output_type": "stream",
     "text": [
      "Minimalus balsavusių „TAIP“ skaičius, kad referendumo nuostata būtų priimta: 621730\n"
     ]
    }
   ],
   "source": [
    "referendumo_nuostatai_priimti_reikalingas_rinkėjų_skaičius_2019 = int(round(referendumui_įvykti_reikalingas_rinkėjų_skaičius_2019 / 2 + 1, 0))\n",
    "print('Minimalus balsavusių „TAIP“ skaičius, kad referendumo nuostata būtų priimta:', referendumo_nuostatai_priimti_reikalingas_rinkėjų_skaičius_2019)"
   ]
  },
  {
   "cell_type": "markdown",
   "metadata": {},
   "source": [
    "Reikalingas balsų skaičius, kad referendumas įvyktų: 1 243 458  \n",
    "Reikalingas balsų skaičius, kad referendumo nuostata būtų priimta: 621 730"
   ]
  },
  {
   "cell_type": "markdown",
   "metadata": {},
   "source": [
    "Dalyvavo rinkėjų: **1 322 135**  \n",
    "*Referendumas įvyko*  \n",
    "  \n",
    "Atsakė „Taip“: **876 841**  \n",
    "Atsakė „Taip“ procentais nuo bendro rinkėjų skaičiaus: **35,26 %**  \n",
    "*Referendumo nuostatai įgyvendinti balsų nepakako*  "
   ]
  },
  {
   "cell_type": "markdown",
   "metadata": {},
   "source": [
    "### 2024 ir 2019 m. referendumų dėl 12 konstitucijos straipsnio pakeitimo palyginimas:"
   ]
  },
  {
   "cell_type": "markdown",
   "metadata": {},
   "source": [
    "| Referendumo data | Reikalingas rinkėjų skaičius, kad referendumas įvyktų | Reikalingas balsų **„TAIP“** skaičius, kad nuostata būtų priimta | Dalyvavo rinkėjų | Atsakė „Taip“ |\n",
    "|:-----------------:|:-------------------------------------------------------:|:-----------------------------------------------------------------:|:--------------:|:--------------:|\n",
    "|   2019 05 12  | 1 243 458 | 621 730 | 1 322 135 | 876 841 |\n",
    "|   2024 05 12  | 1 190 548 | 595 275 |       -         |        -         |\n"
   ]
  },
  {
   "cell_type": "markdown",
   "metadata": {},
   "source": [
    "2024 m. referendume dėl LR Konstitucijos 12 straipsnio pakeitimo reikia surinkti beveik **600 000** balsų **„TAIP“**, kad išsaugotume užsienyje gyvenančių lietuvių Lietuvos pilietybes."
   ]
  },
  {
   "cell_type": "markdown",
   "metadata": {},
   "source": [
    "**Balsavimas gegužės 12 d. sekmadienį!**\n",
    "\n",
    "Jei ir registravotės balsuoti užsienyje, rinkimų dieną galite ateiti balsuoti į bet kurią rinkimų apylinkę Lietuvoje!\n",
    "\n",
    "https://www.vrk.lt/documents/10180/790705/Plakatas+Rinkimu+diena+geguzes+12.pdf/6c477e76-afee-41df-a2b7-c733557c39c1"
   ]
  }
 ],
 "metadata": {
  "kernelspec": {
   "display_name": "Python 3",
   "language": "python",
   "name": "python3"
  },
  "language_info": {
   "codemirror_mode": {
    "name": "ipython",
    "version": 3
   },
   "file_extension": ".py",
   "mimetype": "text/x-python",
   "name": "python",
   "nbconvert_exporter": "python",
   "pygments_lexer": "ipython3",
   "version": "3.12.0"
  }
 },
 "nbformat": 4,
 "nbformat_minor": 2
}
